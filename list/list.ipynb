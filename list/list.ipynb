{
 "cells": [
  {
   "cell_type": "markdown",
   "metadata": {},
   "source": [
    "List\n",
    "\n",
    "Python Lists are just like the arrays, declared in other languages which is an ordered collection of data. It is very flexible as the items in a list do not need to be of the same type. Here are the key characteristics of lists:\n",
    "\n",
    "Lists in Python maintain the order of elements as they are inserted. The order in which elements are added is the same order in which they are stored.\n",
    "Lists are mutable, meaning you can modify their elements after the list is created. You can change, add, or remove elements from a list.\n",
    "Lists can contain elements of different data types.\n",
    "Lists in Python are dynamic, meaning they can grow or shrink in size as needed.\n",
    "Lists support indexing, allowing you to access individual elements using their position (index) in the list.\n",
    "Lists are iterable, meaning you can loop through each element using a for loop."
   ]
  },
  {
   "cell_type": "code",
   "execution_count": 1,
   "metadata": {},
   "outputs": [
    {
     "name": "stdout",
     "output_type": "stream",
     "text": [
      "<class 'list'>\n"
     ]
    }
   ],
   "source": [
    "#creating list\n",
    "lst = [12,'aazad',13,'rohan',23,33]\n",
    "print (type(lst))"
   ]
  },
  {
   "cell_type": "code",
   "execution_count": 2,
   "metadata": {},
   "outputs": [
    {
     "name": "stdout",
     "output_type": "stream",
     "text": [
      "13\n"
     ]
    }
   ],
   "source": [
    "#accessing element\n",
    "lst = [12,'aazad',13,'rohan',23,33]\n",
    "print (lst[2])\n"
   ]
  },
  {
   "cell_type": "code",
   "execution_count": 3,
   "metadata": {},
   "outputs": [
    {
     "name": "stdout",
     "output_type": "stream",
     "text": [
      "[13, 'rohan']\n"
     ]
    }
   ],
   "source": [
    "#slicing list\n",
    "lst = [12,'aazad',13,'rohan',23,33]\n",
    "print (lst[2:4])"
   ]
  },
  {
   "cell_type": "code",
   "execution_count": 6,
   "metadata": {},
   "outputs": [
    {
     "name": "stdout",
     "output_type": "stream",
     "text": [
      "[12, 'aazad', 13, 'rohan', 'Sattu', 33]\n",
      "[12, 'aazad', 13, 'rohan', 23, 33, 54]\n",
      "[12, 'aazad', 13, 'rohan', 23]\n"
     ]
    }
   ],
   "source": [
    "#modify list\n",
    "\n",
    "#changing elements\n",
    "lst = [12,'aazad',13,'rohan',23,33]\n",
    "lst[4] = \"Sattu\"\n",
    "print (lst)\n",
    "\n",
    "#adding elements\n",
    "lst = [12,'aazad',13,'rohan',23,33]\n",
    "lst.append(54)\n",
    "print (lst)\n",
    "\n",
    "#Removing elements\n",
    "lst = [12,'aazad',13,'rohan',23,33]\n",
    "lst.remove(33)\n",
    "print (lst)"
   ]
  },
  {
   "cell_type": "code",
   "execution_count": 27,
   "metadata": {},
   "outputs": [
    {
     "name": "stdout",
     "output_type": "stream",
     "text": [
      "[12, 'aazad', 13, 'rohan', 23, 33, 12, 33, 76, 56, 67, 'SUBHAM']\n",
      "[12, 'aazad', 13, 'rohan', 23, 33, 12, 'aazad', 13, 'rohan', 23, 33]\n",
      "6\n",
      "[12, 13, 23, 33]\n",
      "[4.5, 12.0, 3.6, 24.1, 2.0]\n"
     ]
    }
   ],
   "source": [
    "#List opperation\n",
    "\n",
    "#Concatenation\n",
    "\n",
    "lst = [12,'aazad',13,'rohan',23,33]\n",
    "lst2 = [12,33,76,56,67,'SUBHAM']\n",
    "print (lst + lst2)\n",
    "\n",
    "#repetititon\n",
    "lst = [12,'aazad',13,'rohan',23,33]\n",
    "print (lst * 2)\n",
    "\n",
    "#lenth of list\n",
    "lst = [12,'aazad',13,'rohan',23,33]\n",
    "print (len(lst))\n",
    "\n",
    "#sort\n",
    "lst = [12,13,23,33]\n",
    "lst.sort()\n",
    "print ((lst))\n",
    "\n",
    "#reverse\n",
    "List1 = [2.0, 24.1, 3.6, 12.0, 4.5]\n",
    "List1.reverse()\n",
    "print(List1)"
   ]
  },
  {
   "cell_type": "code",
   "execution_count": 28,
   "metadata": {},
   "outputs": [],
   "source": [
    "#problem : Problem Statement - Count Occurrences of each unique word in a Sentence\n"
   ]
  },
  {
   "cell_type": "code",
   "execution_count": null,
   "metadata": {},
   "outputs": [],
   "source": [
    "#Multidimensional  List\n",
    "\n",
    "A multidimensional list is basically a list of lists in python, each inner list represents the row or column inside the list. There can be more than one dimensions to a list."
   ]
  },
  {
   "cell_type": "code",
   "execution_count": 2,
   "metadata": {},
   "outputs": [
    {
     "name": "stdout",
     "output_type": "stream",
     "text": [
      "[1, 2, 3, 4]\n",
      "[4, 5, 6, 7]\n",
      "[8, 9, 10, 11]\n",
      "1\n",
      "2\n",
      "3\n",
      "4\n",
      "5\n",
      "6\n",
      "8\n",
      "9\n",
      "10\n"
     ]
    }
   ],
   "source": [
    "#accessing elements of list\n",
    "\n",
    "#Accesing the rows of the list\n",
    "l1 = [[1,2,3,4],[4,5,6,7],[8,9,10,11]]\n",
    "for i in l1:\n",
    "    print (i)\n",
    "    \n",
    "#accessing each elemnts of a 2D list\n",
    "for i in range(len(l1)):\n",
    "    for j in range(len(l1)):\n",
    "        print(l1[i][j])"
   ]
  },
  {
   "cell_type": "code",
   "execution_count": 3,
   "metadata": {},
   "outputs": [
    {
     "name": "stdout",
     "output_type": "stream",
     "text": [
      "[[1, 2, 3, 4], [4, 5, 6, 7], [8, 9, 10, 11], [12, 13, 45, 65]]\n"
     ]
    }
   ],
   "source": [
    "#Append list in a multidimensional list:\n",
    "\n",
    "l1 = [[1,2,3,4],[4,5,6,7],[8,9,10,11]]\n",
    "l1.append([12,13,45,65])\n",
    "print(l1)"
   ]
  },
  {
   "cell_type": "code",
   "execution_count": 5,
   "metadata": {},
   "outputs": [
    {
     "name": "stdout",
     "output_type": "stream",
     "text": [
      "[[1, 2, 3, 4], [4, 5, 6, 7, 32, 69, 89], [8, 9, 10, 11]]\n"
     ]
    }
   ],
   "source": [
    "#Extend in existing list:\n",
    "\n",
    "l1 = [[1,2,3,4],[4,5,6,7],[8,9,10,11]]\n",
    "l1[1].extend([32,69,89])\n",
    "print(l1)\n"
   ]
  },
  {
   "cell_type": "code",
   "execution_count": 9,
   "metadata": {},
   "outputs": [
    {
     "name": "stdout",
     "output_type": "stream",
     "text": [
      "[[8, 9, 10, 11], [4, 5, 6, 7, 32, 69, 89], [1, 2, 3, 4]]\n",
      "[[11, 10, 9, 8], [4, 5, 6, 7, 32, 69, 89], [1, 2, 3, 4]]\n"
     ]
    }
   ],
   "source": [
    "#Reverse a multidimensional list:\n",
    "l1 = [[1, 2, 3, 4], [4, 5, 6, 7, 32, 69, 89], [8, 9, 10, 11]]\n",
    "l1.reverse()\n",
    "print(l1)\n",
    "l1[0].reverse()\n",
    "print(l1)\n",
    "\n"
   ]
  },
  {
   "cell_type": "code",
   "execution_count": 11,
   "metadata": {},
   "outputs": [
    {
     "name": "stdout",
     "output_type": "stream",
     "text": [
      "[(2, 0)]\n"
     ]
    }
   ],
   "source": [
    "#Searching in a multidimensional list:\n",
    "\n",
    "M = [\n",
    "    [1,2,3],\n",
    "    [4,5,6],\n",
    "    [7,8,9]\n",
    "]\n",
    "element = 7\n",
    "position = [(i,row.index(element)) for i, row in enumerate(M) if element in row]\n",
    "print(position)"
   ]
  },
  {
   "cell_type": "code",
   "execution_count": null,
   "metadata": {},
   "outputs": [],
   "source": [
    "#List-Comprehensions\n",
    "\n",
    "List comprehensions provide a concise way to create lists. They offer a compact syntax for generating lists based on existing iterables, such as lists, strings, or ranges.\n",
    "\n",
    "\n",
    "\n"
   ]
  },
  {
   "cell_type": "code",
   "execution_count": 12,
   "metadata": {},
   "outputs": [
    {
     "name": "stdout",
     "output_type": "stream",
     "text": [
      "[0, 1, 4, 9, 16]\n"
     ]
    }
   ],
   "source": [
    "#Basic syntax\n",
    "\n",
    "sq = [x**2 for x in range(5)]\n",
    "print(sq)"
   ]
  },
  {
   "cell_type": "code",
   "execution_count": 14,
   "metadata": {},
   "outputs": [
    {
     "name": "stdout",
     "output_type": "stream",
     "text": [
      "[0, 2, 4, 6, 8, 10]\n"
     ]
    }
   ],
   "source": [
    "#Condition in List Comprehension:\n",
    "\n",
    "even_number = [x for x in range(11) if x % 2 == 0]\n",
    "print(even_number)"
   ]
  },
  {
   "cell_type": "code",
   "execution_count": 15,
   "metadata": {},
   "outputs": [
    {
     "name": "stdout",
     "output_type": "stream",
     "text": [
      "[[0, 0, 0], [0, 1, 2], [0, 2, 4], [0, 3, 6]]\n"
     ]
    }
   ],
   "source": [
    "#Nested List Comprehensions:\n",
    "\n",
    "matrix = [[i * j for j in range (3)] for i in range(4)]\n",
    "print(matrix)"
   ]
  },
  {
   "cell_type": "code",
   "execution_count": 17,
   "metadata": {},
   "outputs": [
    {
     "name": "stdout",
     "output_type": "stream",
     "text": [
      "['A', 'B', 'C']\n"
     ]
    }
   ],
   "source": [
    "#Using Functions in List Comprehension:\n",
    "\n",
    "letters = ['a', 'b', 'c']\n",
    "uppercase_letters = [letter.upper() for letter in letters]\n",
    "print(uppercase_letters)\n"
   ]
  },
  {
   "cell_type": "code",
   "execution_count": 21,
   "metadata": {},
   "outputs": [],
   "source": [
    "#Applications of List Comprehensions:\n",
    "#1. Filtering: Create a sub-list based on a condition.\n",
    "\n",
    "#2. Transformation: Apply a transformation to each element in a list.\n",
    "\n",
    "#3.Matrix Operations: Generate matrices and perform operations.\n",
    "\n",
    "#4. String Manipulation: Create lists of characters or modify strings."
   ]
  },
  {
   "cell_type": "code",
   "execution_count": 27,
   "metadata": {},
   "outputs": [
    {
     "name": "stdout",
     "output_type": "stream",
     "text": [
      "Prime numbers in the range (34, 56): [37, 41, 43, 47, 53]\n"
     ]
    }
   ],
   "source": [
    "#Problem Statement - Write a program to print Prime numbers in a given range.\n",
    "def is_prime(num):\n",
    "    if num < 2:\n",
    "        return False\n",
    "    for i in range(2, int(num**0.5) + 1):\n",
    "        if num % i == 0:\n",
    "            return False\n",
    "    return True\n",
    "\n",
    "# Function to generate a list of prime numbers in a range\n",
    "def primes_in_range(start, end):\n",
    "    return [num for num in range(start, end + 1) if is_prime(num)]\n",
    "\n",
    "start_range = int(input(\"Enter the starting number of the range: \"))\n",
    "end_range = int(input(\"Enter the ending number of the range: \"))\n",
    "\n",
    "result = primes_in_range(start_range, end_range)\n",
    "print(f\"Prime numbers in the range ({start_range}, {end_range}): {result}\")\n"
   ]
  }
 ],
 "metadata": {
  "kernelspec": {
   "display_name": "Python 3",
   "language": "python",
   "name": "python3"
  },
  "language_info": {
   "codemirror_mode": {
    "name": "ipython",
    "version": 3
   },
   "file_extension": ".py",
   "mimetype": "text/x-python",
   "name": "python",
   "nbconvert_exporter": "python",
   "pygments_lexer": "ipython3",
   "version": "3.12.5"
  }
 },
 "nbformat": 4,
 "nbformat_minor": 2
}
