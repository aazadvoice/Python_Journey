{
 "cells": [
  {
   "cell_type": "markdown",
   "metadata": {},
   "source": [
    "List\n",
    "\n",
    "Python Lists are just like the arrays, declared in other languages which is an ordered collection of data. It is very flexible as the items in a list do not need to be of the same type. Here are the key characteristics of lists:\n",
    "\n",
    "Lists in Python maintain the order of elements as they are inserted. The order in which elements are added is the same order in which they are stored.\n",
    "Lists are mutable, meaning you can modify their elements after the list is created. You can change, add, or remove elements from a list.\n",
    "Lists can contain elements of different data types.\n",
    "Lists in Python are dynamic, meaning they can grow or shrink in size as needed.\n",
    "Lists support indexing, allowing you to access individual elements using their position (index) in the list.\n",
    "Lists are iterable, meaning you can loop through each element using a for loop."
   ]
  },
  {
   "cell_type": "code",
   "execution_count": 1,
   "metadata": {},
   "outputs": [
    {
     "name": "stdout",
     "output_type": "stream",
     "text": [
      "<class 'list'>\n"
     ]
    }
   ],
   "source": [
    "#creating list\n",
    "lst = [12,'aazad',13,'rohan',23,33]\n",
    "print (type(lst))"
   ]
  },
  {
   "cell_type": "code",
   "execution_count": 2,
   "metadata": {},
   "outputs": [
    {
     "name": "stdout",
     "output_type": "stream",
     "text": [
      "13\n"
     ]
    }
   ],
   "source": [
    "#accessing element\n",
    "lst = [12,'aazad',13,'rohan',23,33]\n",
    "print (lst[2])\n"
   ]
  },
  {
   "cell_type": "code",
   "execution_count": 3,
   "metadata": {},
   "outputs": [
    {
     "name": "stdout",
     "output_type": "stream",
     "text": [
      "[13, 'rohan']\n"
     ]
    }
   ],
   "source": [
    "#slicing list\n",
    "lst = [12,'aazad',13,'rohan',23,33]\n",
    "print (lst[2:4])"
   ]
  },
  {
   "cell_type": "code",
   "execution_count": 6,
   "metadata": {},
   "outputs": [
    {
     "name": "stdout",
     "output_type": "stream",
     "text": [
      "[12, 'aazad', 13, 'rohan', 'Sattu', 33]\n",
      "[12, 'aazad', 13, 'rohan', 23, 33, 54]\n",
      "[12, 'aazad', 13, 'rohan', 23]\n"
     ]
    }
   ],
   "source": [
    "#modify list\n",
    "\n",
    "#changing elements\n",
    "lst = [12,'aazad',13,'rohan',23,33]\n",
    "lst[4] = \"Sattu\"\n",
    "print (lst)\n",
    "\n",
    "#adding elements\n",
    "lst = [12,'aazad',13,'rohan',23,33]\n",
    "lst.append(54)\n",
    "print (lst)\n",
    "\n",
    "#Removing elements\n",
    "lst = [12,'aazad',13,'rohan',23,33]\n",
    "lst.remove(33)\n",
    "print (lst)"
   ]
  },
  {
   "cell_type": "code",
   "execution_count": 27,
   "metadata": {},
   "outputs": [
    {
     "name": "stdout",
     "output_type": "stream",
     "text": [
      "[12, 'aazad', 13, 'rohan', 23, 33, 12, 33, 76, 56, 67, 'SUBHAM']\n",
      "[12, 'aazad', 13, 'rohan', 23, 33, 12, 'aazad', 13, 'rohan', 23, 33]\n",
      "6\n",
      "[12, 13, 23, 33]\n",
      "[4.5, 12.0, 3.6, 24.1, 2.0]\n"
     ]
    }
   ],
   "source": [
    "#List opperation\n",
    "\n",
    "#Concatenation\n",
    "\n",
    "lst = [12,'aazad',13,'rohan',23,33]\n",
    "lst2 = [12,33,76,56,67,'SUBHAM']\n",
    "print (lst + lst2)\n",
    "\n",
    "#repetititon\n",
    "lst = [12,'aazad',13,'rohan',23,33]\n",
    "print (lst * 2)\n",
    "\n",
    "#lenth of list\n",
    "lst = [12,'aazad',13,'rohan',23,33]\n",
    "print (len(lst))\n",
    "\n",
    "#sort\n",
    "lst = [12,13,23,33]\n",
    "lst.sort()\n",
    "print ((lst))\n",
    "\n",
    "#reverse\n",
    "List1 = [2.0, 24.1, 3.6, 12.0, 4.5]\n",
    "List1.reverse()\n",
    "print(List1)"
   ]
  },
  {
   "cell_type": "code",
   "execution_count": 28,
   "metadata": {},
   "outputs": [],
   "source": [
    "#problem : Problem Statement - Count Occurrences of each unique word in a Sentence\n"
   ]
  }
 ],
 "metadata": {
  "kernelspec": {
   "display_name": "Python 3",
   "language": "python",
   "name": "python3"
  },
  "language_info": {
   "codemirror_mode": {
    "name": "ipython",
    "version": 3
   },
   "file_extension": ".py",
   "mimetype": "text/x-python",
   "name": "python",
   "nbconvert_exporter": "python",
   "pygments_lexer": "ipython3",
   "version": "3.12.5"
  }
 },
 "nbformat": 4,
 "nbformat_minor": 2
}
