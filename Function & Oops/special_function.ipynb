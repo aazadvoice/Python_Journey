{
 "cells": [
  {
   "cell_type": "markdown",
   "metadata": {},
   "source": [
    "Zip, Filter, Lambda & Map\n",
    "\n",
    "Python provides several powerful built-in functions that facilitate various operations on data structures and support functional programming paradigms. In this article, we'll delve into the functionalities and use cases of zip, filter, lambda, and map in Python.\n",
    "\n",
    "Zip function in Python\n",
    "Zip function is used to combine multiple iterables (e.g., lists, tuples) element-wise, creating tuples containing elements from the input iterables."
   ]
  },
  {
   "cell_type": "code",
   "execution_count": 1,
   "metadata": {},
   "outputs": [
    {
     "name": "stdout",
     "output_type": "stream",
     "text": [
      "[(1, 'Geeks'), (4, 'for'), (8, 'Geeks')]\n"
     ]
    }
   ],
   "source": [
    "tuple1 = (1, 4, 8)\n",
    "List1 = [\"Geeks\" , \"for\", \"Geeks\", \"Python\"]\n",
    "zipped_data = zip(tuple1, List1)\n",
    "print(list(zipped_data))"
   ]
  },
  {
   "cell_type": "markdown",
   "metadata": {},
   "source": [
    "Filter function in Python\n",
    "filter function in python is used to construct an iterator from elements of an iterable for which a function returns True. It filters out elements based on a specified condition. If the condition is satisfied and True is returned, it's not filtered out. If the condition isn't satisfied and False is returned, the element of the iterable is filtered out."
   ]
  },
  {
   "cell_type": "code",
   "execution_count": 2,
   "metadata": {},
   "outputs": [
    {
     "name": "stdout",
     "output_type": "stream",
     "text": [
      "[2, 4, 6, 8, 10]\n"
     ]
    }
   ],
   "source": [
    "numbers = [1, 2, 3, 4, 5, 6, 7, 8, 9, 10]\n",
    "\n",
    "def is_even(number):\n",
    "    return number%2==0\n",
    "filtered_numbers = list(filter(is_even, numbers))\n",
    "print(filtered_numbers)"
   ]
  },
  {
   "cell_type": "markdown",
   "metadata": {},
   "source": [
    "Lambda function in Python\n",
    "Lambda functions (or anonymous functions) are small, anonymous functions defined using the lambda keyword. They are often used for short-term operations where a full function definition is unnecessary.\n",
    "\n",
    "Syntax: lambda arguments : expression\n",
    "\n",
    "1. Lambda function with List Comprehension"
   ]
  },
  {
   "cell_type": "code",
   "execution_count": 3,
   "metadata": {},
   "outputs": [
    {
     "name": "stdout",
     "output_type": "stream",
     "text": [
      "10 20 30 40 "
     ]
    }
   ],
   "source": [
    "is_even_list = [lambda arg=x: arg * 10 for x in range(1, 5)]\n",
    "for item in is_even_list:\n",
    "\tprint(item(), end = ' ')"
   ]
  },
  {
   "cell_type": "markdown",
   "metadata": {},
   "source": [
    "2. Lambda function with conditional statements"
   ]
  },
  {
   "cell_type": "code",
   "execution_count": 4,
   "metadata": {},
   "outputs": [
    {
     "name": "stdout",
     "output_type": "stream",
     "text": [
      "2\n"
     ]
    }
   ],
   "source": [
    "Max = lambda a, b : a if(a > b) else b\n",
    "print(Max(1, 2))"
   ]
  },
  {
   "cell_type": "markdown",
   "metadata": {},
   "source": [
    "3. Lambda function with filter()"
   ]
  },
  {
   "cell_type": "code",
   "execution_count": 5,
   "metadata": {},
   "outputs": [
    {
     "name": "stdout",
     "output_type": "stream",
     "text": [
      "Programming Languages: ['C', 'C++', 'Java', 'Python', 'JavaScript', 'Ruby', 'Swift']\n",
      "Languages containing 'Java': ['Java', 'JavaScript']\n"
     ]
    }
   ],
   "source": [
    "programming_languages = [\"C\", \"C++\", \"Java\", \"Python\", \"JavaScript\", \"Ruby\", \"Swift\"]\n",
    "\n",
    "# Using filter with lambda to filter strings containing \"Python\"\n",
    "java_languages = list(filter(lambda lang: \"Java\" in lang, programming_languages))\n",
    "\n",
    "print(\"Programming Languages:\", programming_languages)\n",
    "print(\"Languages containing 'Java':\", java_languages)"
   ]
  },
  {
   "cell_type": "markdown",
   "metadata": {},
   "source": [
    "Map function in python\n",
    "map function applies a given function to all items in an input iterable (e.g., list) and returns an iterator of the results.\n",
    "\n",
    "syntax: map(function, iterable, ...)"
   ]
  },
  {
   "cell_type": "code",
   "execution_count": 6,
   "metadata": {},
   "outputs": [
    {
     "name": "stdout",
     "output_type": "stream",
     "text": [
      "[1, 4, 9, 16, 25]\n"
     ]
    }
   ],
   "source": [
    "numbers = [1, 2, 3, 4, 5]\n",
    "# Using map to square each element\n",
    "squared_numbers = map(lambda x: x**2, numbers)\n",
    "\n",
    "result_list = list(squared_numbers)\n",
    "print(result_list)"
   ]
  },
  {
   "cell_type": "markdown",
   "metadata": {},
   "source": [
    "Combining all functions"
   ]
  },
  {
   "cell_type": "code",
   "execution_count": 7,
   "metadata": {},
   "outputs": [
    {
     "name": "stdout",
     "output_type": "stream",
     "text": [
      "[('GEEKS', 25), ('GEEKS', 30)]\n"
     ]
    }
   ],
   "source": [
    "names = [\"Geeks\", \"For\", \"Geeks\"]\n",
    "scores = [25, 30, 22]\n",
    "\n",
    "filtered_names = list(filter(lambda x: len(x) > 4, names))\n",
    "uppercase_names = list(map(lambda x: x.upper(), filtered_names))\n",
    "\n",
    "zipped_data = list(zip(uppercase_names, scores))\n",
    "print(zipped_data)"
   ]
  },
  {
   "cell_type": "code",
   "execution_count": 9,
   "metadata": {},
   "outputs": [
    {
     "name": "stdout",
     "output_type": "stream",
     "text": [
      "['banana', 'cherry']\n"
     ]
    }
   ],
   "source": [
    "words = [\"apple\", \"banana\", \"cherry\"] \n",
    "filtered_words = list(filter(lambda x: len(x) > 5, words))\n",
    "print(filtered_words)"
   ]
  },
  {
   "cell_type": "code",
   "execution_count": 12,
   "metadata": {},
   "outputs": [
    {
     "name": "stdout",
     "output_type": "stream",
     "text": [
      "[1, 9, 25]\n"
     ]
    }
   ],
   "source": [
    "numbers = [1, 2, 3, 4, 5] \n",
    "squared_odd = list(map(lambda x: x**2, filter(lambda x: x % 2 != 0, numbers)))\n",
    "print(squared_odd)"
   ]
  },
  {
   "cell_type": "code",
   "execution_count": 16,
   "metadata": {},
   "outputs": [
    {
     "name": "stdout",
     "output_type": "stream",
     "text": [
      "120\n"
     ]
    }
   ],
   "source": [
    "from functools import reduce\n",
    "numbers = [1, 2, 3, 4, 5] \n",
    "product = lambda x, y: x * y \n",
    "result = reduce (product, numbers)\n",
    "print(result)"
   ]
  }
 ],
 "metadata": {
  "kernelspec": {
   "display_name": "Python 3",
   "language": "python",
   "name": "python3"
  },
  "language_info": {
   "codemirror_mode": {
    "name": "ipython",
    "version": 3
   },
   "file_extension": ".py",
   "mimetype": "text/x-python",
   "name": "python",
   "nbconvert_exporter": "python",
   "pygments_lexer": "ipython3",
   "version": "3.12.5"
  }
 },
 "nbformat": 4,
 "nbformat_minor": 2
}
