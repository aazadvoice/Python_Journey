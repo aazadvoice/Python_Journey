{
 "cells": [
  {
   "cell_type": "markdown",
   "metadata": {},
   "source": [
    "Math Library\n",
    "The \n",
    " module is a standard Python module providing mathematical functions. It includes a wide range of functions for basic arithmetic, trigonometry, logarithmic, exponential, and more. Here are some commonly used functions from the \n",
    " module:\n",
    "\n",
    "Basic Arithmetic Functions\n",
    "1. 'math.ceil(x)`:\n",
    "Returns the smallest integer greater than or equal to x."
   ]
  },
  {
   "cell_type": "code",
   "execution_count": 1,
   "metadata": {},
   "outputs": [
    {
     "name": "stdout",
     "output_type": "stream",
     "text": [
      "5\n"
     ]
    }
   ],
   "source": [
    "import math\n",
    "result = math.ceil(4.2)\n",
    "print(result)"
   ]
  },
  {
   "cell_type": "markdown",
   "metadata": {},
   "source": [
    "2. math.floor(x):\n",
    "Returns the largest integer less than or equal to x"
   ]
  },
  {
   "cell_type": "code",
   "execution_count": 3,
   "metadata": {},
   "outputs": [
    {
     "name": "stdout",
     "output_type": "stream",
     "text": [
      "4\n"
     ]
    }
   ],
   "source": [
    "import math\n",
    "result = math.floor(4.9)\n",
    "print(result)"
   ]
  },
  {
   "cell_type": "markdown",
   "metadata": {},
   "source": [
    "3. math.trunc(x):\n",
    "Returns the truncated integer value of x."
   ]
  },
  {
   "cell_type": "code",
   "execution_count": 4,
   "metadata": {},
   "outputs": [
    {
     "name": "stdout",
     "output_type": "stream",
     "text": [
      "4\n"
     ]
    }
   ],
   "source": [
    "import math\n",
    "result = math.trunc(4.9)\n",
    "print(result)"
   ]
  },
  {
   "cell_type": "markdown",
   "metadata": {},
   "source": [
    "4. math.sqrt(x)\n",
    "Returns the square root of x."
   ]
  },
  {
   "cell_type": "code",
   "execution_count": 5,
   "metadata": {},
   "outputs": [
    {
     "name": "stdout",
     "output_type": "stream",
     "text": [
      "4.0\n"
     ]
    }
   ],
   "source": [
    "import math\n",
    "result = math.sqrt(16)\n",
    "print(result)"
   ]
  },
  {
   "cell_type": "markdown",
   "metadata": {},
   "source": [
    "Trigonometric Functions\n",
    "Return the sine, cosine, and tangent of x (measured in radians).\n"
   ]
  },
  {
   "cell_type": "code",
   "execution_count": 6,
   "metadata": {},
   "outputs": [
    {
     "name": "stdout",
     "output_type": "stream",
     "text": [
      "sin_result : 0.7071067811865475 cos_result : 0.7071067811865476 tan_result : 0.9999999999999999\n"
     ]
    }
   ],
   "source": [
    "import math\n",
    "angle = math.radians(45)  # Convert degrees to radians\n",
    "sin_result = math.sin(angle)\n",
    "cos_result = math.cos(angle)\n",
    "tan_result = math.tan(angle)\n",
    "print(\"sin_result :\",sin_result, \"cos_result :\", cos_result, \"tan_result :\", tan_result)"
   ]
  },
  {
   "cell_type": "markdown",
   "metadata": {},
   "source": [
    "Logarithmic and Exponential Functions\n",
    "\n",
    "Returns the natural logarithm of x with the specified base."
   ]
  },
  {
   "cell_type": "code",
   "execution_count": 7,
   "metadata": {},
   "outputs": [
    {
     "name": "stdout",
     "output_type": "stream",
     "text": [
      "4.0\n"
     ]
    }
   ],
   "source": [
    "import math\n",
    "result = math.log(16, 2)\n",
    "print(result)"
   ]
  },
  {
   "cell_type": "markdown",
   "metadata": {},
   "source": [
    "Random Library\n",
    "\n",
    "The random module in Python is a standard library module that provides functions for generating random numbers, selecting random elements, and performing various randomization tasks. It is commonly used in applications involving simulations, games, statistical sampling, cryptography, and more."
   ]
  },
  {
   "cell_type": "markdown",
   "metadata": {},
   "source": [
    "Generating Random Numbers:\n",
    "1. random():\n",
    "Returns a random floating-point number in the range [0.0, 1.0).\n"
   ]
  },
  {
   "cell_type": "code",
   "execution_count": 11,
   "metadata": {},
   "outputs": [
    {
     "name": "stdout",
     "output_type": "stream",
     "text": [
      "0.4694395700051618\n"
     ]
    }
   ],
   "source": [
    "import random\n",
    "value = random.random()\n",
    "print(value)"
   ]
  },
  {
   "cell_type": "markdown",
   "metadata": {},
   "source": [
    "2. randint(a,b)\n",
    "Returns a random integer between a and b (inclusive)."
   ]
  },
  {
   "cell_type": "code",
   "execution_count": 12,
   "metadata": {},
   "outputs": [
    {
     "name": "stdout",
     "output_type": "stream",
     "text": [
      "6\n"
     ]
    }
   ],
   "source": [
    "import random\n",
    "value = random.randint(1, 10)\n",
    "print(value)"
   ]
  },
  {
   "cell_type": "markdown",
   "metadata": {},
   "source": [
    "3. uniform(a,b):\n",
    "Returns a random floating-point number in the range [a, b) or [a, b] if is included."
   ]
  },
  {
   "cell_type": "code",
   "execution_count": 13,
   "metadata": {},
   "outputs": [
    {
     "name": "stdout",
     "output_type": "stream",
     "text": [
      "4.466683730582398\n"
     ]
    }
   ],
   "source": [
    "import random\n",
    "value = random.uniform(1.0, 5.0)\n",
    "print(value)"
   ]
  },
  {
   "cell_type": "markdown",
   "metadata": {},
   "source": [
    "Randomizing Sequences:\n",
    "4. shuffle(sequence):\n",
    "Randomly shuffles the elements of a sequence in place."
   ]
  },
  {
   "cell_type": "code",
   "execution_count": 14,
   "metadata": {},
   "outputs": [
    {
     "name": "stdout",
     "output_type": "stream",
     "text": [
      "[4, 1, 3, 2, 5]\n"
     ]
    }
   ],
   "source": [
    "import random\n",
    "my_list = [1, 2, 3, 4, 5]\n",
    "random.shuffle(my_list)\n",
    "print(my_list)"
   ]
  },
  {
   "cell_type": "markdown",
   "metadata": {},
   "source": [
    "5. choice(sequence):\n",
    "Returns a random element from a sequence."
   ]
  },
  {
   "cell_type": "code",
   "execution_count": 15,
   "metadata": {},
   "outputs": [
    {
     "name": "stdout",
     "output_type": "stream",
     "text": [
      "2\n"
     ]
    }
   ],
   "source": [
    "import random\n",
    "my_list = [1, 2, 3, 4, 5]\n",
    "value = random.choice(my_list)\n",
    "print(value)"
   ]
  },
  {
   "cell_type": "markdown",
   "metadata": {},
   "source": [
    "6. sample(sequence,k):\n",
    "Returns a new list with \n",
    " unique random elements sampled from the sequence without replacement."
   ]
  },
  {
   "cell_type": "code",
   "execution_count": 16,
   "metadata": {},
   "outputs": [
    {
     "name": "stdout",
     "output_type": "stream",
     "text": [
      "[5, 2, 1]\n"
     ]
    }
   ],
   "source": [
    "import random\n",
    "my_list = [1, 2, 3, 4, 5]\n",
    "sampled = random.sample(my_list, 3)\n",
    "print(sampled)"
   ]
  },
  {
   "cell_type": "markdown",
   "metadata": {},
   "source": [
    "DateTime Library\n",
    "In Python, the daatetime module provides classes for working with dates and times. It allows you to represent dates, times, and intervals, and perform operations on them. Here are some key components of the datetime module:\n",
    "\n",
    "1. datetime Class:\n",
    "The datetime class represents a date and a time. It has attributes like year, month, day, hour, minute, second, and microsecond."
   ]
  },
  {
   "cell_type": "code",
   "execution_count": 17,
   "metadata": {},
   "outputs": [
    {
     "name": "stdout",
     "output_type": "stream",
     "text": [
      "2025-01-09 10:24:30.236376\n"
     ]
    }
   ],
   "source": [
    "\n",
    "from datetime import datetime\n",
    "current_datetime = datetime.now()\n",
    "print(current_datetime)\n"
   ]
  },
  {
   "cell_type": "markdown",
   "metadata": {},
   "source": [
    "2. date Class:\n",
    "The date class represents a date (year, month, and day) without a time component."
   ]
  },
  {
   "cell_type": "code",
   "execution_count": 18,
   "metadata": {},
   "outputs": [
    {
     "name": "stdout",
     "output_type": "stream",
     "text": [
      "2025-01-09\n"
     ]
    }
   ],
   "source": [
    "from datetime import date\n",
    "current_date = date.today()\n",
    "print(current_date)"
   ]
  },
  {
   "cell_type": "markdown",
   "metadata": {},
   "source": [
    "3. time Class:\n",
    "The timeclass represents a time (hour, minute, second, and microsecond) without a date component.\n",
    "\n",
    "Formatting and Parsing:\n",
    "You can format datetime objects as strings and parse strings into datetime objects using the strftime and strptime methods."
   ]
  },
  {
   "cell_type": "code",
   "execution_count": 19,
   "metadata": {},
   "outputs": [
    {
     "name": "stdout",
     "output_type": "stream",
     "text": [
      "2025-01-09 10:43:01\n",
      "2023-01-01 12:30:00\n"
     ]
    }
   ],
   "source": [
    "from datetime import datetime\n",
    "current_datetime=datetime.now()\n",
    "# Format a datetime object as a string\n",
    "formatted_date = current_datetime.strftime(\"%Y-%m-%d %H:%M:%S\")\n",
    "print(formatted_date)\n",
    "\n",
    "# Parse a string into a datetime object\n",
    "parsed_date = datetime.strptime(\"2023-01-01 12:30:00\", \"%Y-%m-%d %H:%M:%S\")\n",
    "print(parsed_date)"
   ]
  },
  {
   "cell_type": "markdown",
   "metadata": {},
   "source": [
    "Date Arithmetic:\n",
    "Performing arithmetic operations with dates is possible using the timedelta class."
   ]
  },
  {
   "cell_type": "code",
   "execution_count": 20,
   "metadata": {},
   "outputs": [
    {
     "name": "stdout",
     "output_type": "stream",
     "text": [
      "2025-01-16 10:43:46.439134\n"
     ]
    }
   ],
   "source": [
    "from datetime import datetime, timedelta\n",
    "current_datetime=datetime.now()\n",
    "future_date = current_datetime + timedelta(days=7)\n",
    "print(future_date)"
   ]
  }
 ],
 "metadata": {
  "kernelspec": {
   "display_name": "Python 3",
   "language": "python",
   "name": "python3"
  },
  "language_info": {
   "codemirror_mode": {
    "name": "ipython",
    "version": 3
   },
   "file_extension": ".py",
   "mimetype": "text/x-python",
   "name": "python",
   "nbconvert_exporter": "python",
   "pygments_lexer": "ipython3",
   "version": "3.12.5"
  }
 },
 "nbformat": 4,
 "nbformat_minor": 2
}
