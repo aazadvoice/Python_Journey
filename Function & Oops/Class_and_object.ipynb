{
 "cells": [
  {
   "cell_type": "markdown",
   "metadata": {},
   "source": [
    "Python Classes\n",
    "In Python, a class is like a blueprint or template for creating objects. It defines a structure that helps organize data and functions related to that data. Think of a class as a recipe that describes how to create something.\n",
    "\n",
    "Creating a new class creates a new type of object, allowing new instances of that type to be made. Each class instance can have attributes attached to it for maintaining its state. Class instances can also have methods (defined by their class) for modifying their state.\n",
    "\n",
    "Feature of Python class:\n",
    "Classes are created by keyword class.\n",
    "Attributes are the variables that belong to a class.\n",
    "Attributes are always public and can be accessed using the dot (.) operator. Eg.: My class.Myattribute"
   ]
  },
  {
   "cell_type": "code",
   "execution_count": 25,
   "metadata": {},
   "outputs": [
    {
     "name": "stdout",
     "output_type": "stream",
     "text": [
      "Deepika\n",
      "Mumbai\n"
     ]
    }
   ],
   "source": [
    "class Person:\n",
    "  name = \"Deepika\"\n",
    "  city = \"Mumbai\"\n",
    "\n",
    "p1=Person()\n",
    "print(p1.name)\n",
    "print(p1.city)"
   ]
  },
  {
   "cell_type": "markdown",
   "metadata": {},
   "source": [
    "Object of Python Class\n",
    "An Object is an instance of a Class. A class is like a blueprint while an instance is a copy of the class with actual values. It’s not an idea anymore, it’s an actual dog, like a dog of breed pug who’s seven years old. You can have many dogs to create many different instances, but without the class as a guide, you would be lost, not knowing what information is required.\n",
    "\n",
    "An object consists of\n",
    "State: It is represented by the attributes of an object. It also reflects the properties of an object.\n",
    "Behavior: It is represented by the methods of an object. It also reflects the response of an object to other objects.\n",
    "Identity: It gives a unique name to an object and enables one object to interact with other objects.\n",
    "__init__() method\n",
    "The __init__ method is similar to constructors in C++ and Java. Constructors are used to initializing the object’s state. Like methods, a constructor also contains a collection of statements(i.e. instructions) that are executed at the time of Object creation. It runs as soon as an object of a class is instantiated. The method is useful to do any initialization you want to do with your object."
   ]
  },
  {
   "cell_type": "code",
   "execution_count": 26,
   "metadata": {},
   "outputs": [],
   "source": [
    "class Student:\n",
    "    def __init__(self, name, age):\n",
    "        self.name = name\n",
    "        self.age = age"
   ]
  },
  {
   "cell_type": "markdown",
   "metadata": {},
   "source": [
    "Modify Object Properties\n",
    "You can modify properties on objects like this:"
   ]
  },
  {
   "cell_type": "code",
   "execution_count": 27,
   "metadata": {},
   "outputs": [
    {
     "name": "stdout",
     "output_type": "stream",
     "text": [
      "Rose\n"
     ]
    }
   ],
   "source": [
    "class Person:\n",
    "  name = \"Deepika\"\n",
    "  city = \"Mumbai\"\n",
    "\n",
    "p1=Person()\n",
    "p1.name = \"Rose\"\n",
    "print(p1.name)"
   ]
  },
  {
   "cell_type": "markdown",
   "metadata": {},
   "source": [
    "Delete Object Properties\n",
    "You can delete properties on objects by using the del keyword.\n",
    "\n",
    "Delete the age property from the p1 object:"
   ]
  },
  {
   "cell_type": "code",
   "execution_count": 28,
   "metadata": {},
   "outputs": [
    {
     "ename": "AttributeError",
     "evalue": "'Person' object has no attribute 'age'",
     "output_type": "error",
     "traceback": [
      "\u001b[0;31m---------------------------------------------------------------------------\u001b[0m",
      "\u001b[0;31mAttributeError\u001b[0m                            Traceback (most recent call last)",
      "Cell \u001b[0;32mIn[28], line 7\u001b[0m\n\u001b[1;32m      4\u001b[0m   age \u001b[38;5;241m=\u001b[39m \u001b[38;5;241m20\u001b[39m\n\u001b[1;32m      6\u001b[0m p1\u001b[38;5;241m=\u001b[39mPerson()\n\u001b[0;32m----> 7\u001b[0m \u001b[38;5;28;01mdel\u001b[39;00m \u001b[43mp1\u001b[49m\u001b[38;5;241;43m.\u001b[39;49m\u001b[43mage\u001b[49m\n",
      "\u001b[0;31mAttributeError\u001b[0m: 'Person' object has no attribute 'age'"
     ]
    }
   ],
   "source": [
    "class Person:\n",
    "  name = \"Deepika\"\n",
    "  city = \"Mumbai\"\n",
    "  age = 20\n",
    "\n",
    "p1=Person()\n",
    "del p1.age"
   ]
  },
  {
   "cell_type": "markdown",
   "metadata": {},
   "source": [
    "Delete Objects\n",
    "You can delete objects by using the del keyword."
   ]
  },
  {
   "cell_type": "code",
   "execution_count": 10,
   "metadata": {},
   "outputs": [
    {
     "ename": "NameError",
     "evalue": "name 'p1' is not defined",
     "output_type": "error",
     "traceback": [
      "\u001b[0;31m---------------------------------------------------------------------------\u001b[0m",
      "\u001b[0;31mNameError\u001b[0m                                 Traceback (most recent call last)",
      "Cell \u001b[0;32mIn[10], line 7\u001b[0m\n\u001b[1;32m      5\u001b[0m p1\u001b[38;5;241m=\u001b[39mPerson()\n\u001b[1;32m      6\u001b[0m \u001b[38;5;28;01mdel\u001b[39;00m p1\n\u001b[0;32m----> 7\u001b[0m \u001b[38;5;28mprint\u001b[39m(\u001b[43mp1\u001b[49m\u001b[38;5;241m.\u001b[39mname)\n",
      "\u001b[0;31mNameError\u001b[0m: name 'p1' is not defined"
     ]
    }
   ],
   "source": [
    "class Person:\n",
    "  name = \"Deepika\"\n",
    "  city = \"Mumbai\"\n",
    "\n",
    "p1=Person()\n",
    "del p1\n",
    "print(p1.name)"
   ]
  },
  {
   "cell_type": "markdown",
   "metadata": {},
   "source": [
    "Encapsulation and Modularity\n",
    "Classes promote encapsulation, which means bundling data and the methods that operate on that data together. This enhances modularity, making it easier to manage and maintain code, a crucial aspect in data science projects."
   ]
  },
  {
   "cell_type": "code",
   "execution_count": 11,
   "metadata": {},
   "outputs": [],
   "source": [
    "class Student:\n",
    "    def __init__(self, name, age):\n",
    "        self.name = name\n",
    "        self.age = age\n",
    "        self.grades = []\n",
    "\n",
    "    def add_grade(self, grade):\n",
    "        self.grades.append(grade)\n",
    "\n",
    "    def average_grade(self):\n",
    "        return sum(self.grades) / len(self.grades)"
   ]
  },
  {
   "cell_type": "markdown",
   "metadata": {},
   "source": [
    "Polymorphism: Adapting to Data Variability\n",
    "Polymorphism allows objects to be treated as instances of their parent class, enabling flexibility in handling various data types. This concept is particularly useful in scenarios where the same operation can be applied to different types of objects."
   ]
  },
  {
   "cell_type": "code",
   "execution_count": 12,
   "metadata": {},
   "outputs": [
    {
     "ename": "NameError",
     "evalue": "name 'Dog' is not defined",
     "output_type": "error",
     "traceback": [
      "\u001b[0;31m---------------------------------------------------------------------------\u001b[0m",
      "\u001b[0;31mNameError\u001b[0m                                 Traceback (most recent call last)",
      "Cell \u001b[0;32mIn[12], line 6\u001b[0m\n\u001b[1;32m      3\u001b[0m     animal\u001b[38;5;241m.\u001b[39mmake_sound()\n\u001b[1;32m      5\u001b[0m \u001b[38;5;66;03m# Usage\u001b[39;00m\n\u001b[0;32m----> 6\u001b[0m dog \u001b[38;5;241m=\u001b[39m \u001b[43mDog\u001b[49m(\u001b[38;5;124m\"\u001b[39m\u001b[38;5;124mWoof\u001b[39m\u001b[38;5;124m\"\u001b[39m)\n\u001b[1;32m      7\u001b[0m cat \u001b[38;5;241m=\u001b[39m Cat(\u001b[38;5;124m\"\u001b[39m\u001b[38;5;124mWhiskers\u001b[39m\u001b[38;5;124m\"\u001b[39m)\n\u001b[1;32m      9\u001b[0m describe(dog)  \u001b[38;5;66;03m# Output: Woof!\u001b[39;00m\n",
      "\u001b[0;31mNameError\u001b[0m: name 'Dog' is not defined"
     ]
    }
   ],
   "source": [
    "# Polymorphism in Action\n",
    "def describe(animal):\n",
    "    animal.make_sound()\n",
    "\n",
    "# Usage\n",
    "dog = Dog(\"Woof\")\n",
    "cat = Cat(\"Whiskers\")\n",
    "\n",
    "describe(dog)  # Output: Woof!\n",
    "describe(cat)  # Output: Meow!"
   ]
  },
  {
   "cell_type": "markdown",
   "metadata": {},
   "source": [
    "Relevance to Data Science: Structuring Data with Classes\n",
    "In the context of data science, classes provide a powerful way to structure and organize data. For example, you might create a class to represent a dataset, with attributes for columns and methods for data analysis."
   ]
  },
  {
   "cell_type": "code",
   "execution_count": 29,
   "metadata": {},
   "outputs": [],
   "source": [
    "class DataSet:\n",
    "    def __init__(self, data):\n",
    "        self.data = data\n",
    "\n",
    "    def analyze(self):\n",
    "        # Perform data analysis here\n",
    "        pass"
   ]
  },
  {
   "cell_type": "markdown",
   "metadata": {},
   "source": [
    "Methods and Parameters\n",
    "\n",
    "In the dynamic realm of data science, effective data handling involves not just organizing data using classes but also utilizing methods and parameters within those classes.\n",
    "\n",
    "Methods in Python Classes\n",
    "Methods in Python classes are like little helpers that can perform specific tasks. They are functions tied to your data, bringing order and functionality.\n",
    "\n",
    "The self Parameter\n",
    "The self parameter is a reference to the current instance of the class, and is used to access variables that belongs to the class.\n",
    "It does not have to be named self , you can call it whatever you like, but it has to be the first parameter of any function in the class.\n",
    "\n",
    "Let's create a simple class to represent a dataset and add methods for basic data calculations."
   ]
  },
  {
   "cell_type": "code",
   "execution_count": 30,
   "metadata": {},
   "outputs": [],
   "source": [
    "class DataSet:\n",
    "    def __init__(self, data):\n",
    "        self.data = data\n",
    "\n",
    "    def calculate_mean(self):\n",
    "        return sum(self.data) / len(self.data)\n",
    "\n",
    "    def calculate_median(self):\n",
    "        sorted_data = sorted(self.data)\n",
    "        n = len(self.data)\n",
    "        middle = n // 2\n",
    "        if n % 2 == 0:\n",
    "            return (sorted_data[middle - 1] + sorted_data[middle]) / 2\n",
    "        else:\n",
    "            return sorted_data[middle]"
   ]
  },
  {
   "cell_type": "markdown",
   "metadata": {},
   "source": [
    "def __init__(self, data) is the initializer or constructor. It is executed when a new object of the class is created.\n",
    "\n",
    "the 'calculate_mean' and calculate_median methods help us find the mean and median of our dataset."
   ]
  },
  {
   "cell_type": "markdown",
   "metadata": {},
   "source": [
    "Calling Python class methods\n",
    "To call a class method, you use the class name, followed by a dot, and then the method name like this:"
   ]
  },
  {
   "cell_type": "code",
   "execution_count": 31,
   "metadata": {},
   "outputs": [
    {
     "ename": "NameError",
     "evalue": "name 'ClassName' is not defined",
     "output_type": "error",
     "traceback": [
      "\u001b[0;31m---------------------------------------------------------------------------\u001b[0m",
      "\u001b[0;31mNameError\u001b[0m                                 Traceback (most recent call last)",
      "Cell \u001b[0;32mIn[31], line 1\u001b[0m\n\u001b[0;32m----> 1\u001b[0m \u001b[43mClassName\u001b[49m\u001b[38;5;241m.\u001b[39mmethod_name()\n",
      "\u001b[0;31mNameError\u001b[0m: name 'ClassName' is not defined"
     ]
    }
   ],
   "source": [
    "ClassName.method_name()"
   ]
  },
  {
   "cell_type": "markdown",
   "metadata": {},
   "source": [
    "Parameters\n",
    "Python classes have methods, which are functions that are associated with the class. These methods can take parameters, allowing you to customize their behavior based on the specific instance of the class. Let's consider a simple example:"
   ]
  },
  {
   "cell_type": "code",
   "execution_count": 32,
   "metadata": {},
   "outputs": [
    {
     "name": "stdout",
     "output_type": "stream",
     "text": [
      "John speaks loudly!\n"
     ]
    }
   ],
   "source": [
    "class Person:\n",
    "    def __init__(self, name, age):\n",
    "        self.name = name\n",
    "        self.age = age\n",
    "\n",
    "    def voice(self, loudness):\n",
    "        print(f\"{self.name} speaks {'loudly' if loudness else 'softly'}!\")\n",
    "\n",
    "# Creating an instance of the person class\n",
    "p1 = Person(name=\"John\", age=40)\n",
    "\n",
    "# Using the voice method with parameters\n",
    "p1.voice(loudness=True)"
   ]
  },
  {
   "cell_type": "markdown",
   "metadata": {},
   "source": [
    "In this example:\n",
    "The __init__ method takes two parameters, name and age, which are used to initialize the attributes of the Person class (self.name and self.age).\n",
    "The voice method takes an additional parameter, loudness, allowing you to specify how loudly the person should speak."
   ]
  },
  {
   "cell_type": "markdown",
   "metadata": {},
   "source": [
    "Default Parameters\n",
    "You can also assign default values to parameters in methods or constructors. If a value for a parameter is not provided during the method call or object creation, the default value will be used."
   ]
  },
  {
   "cell_type": "code",
   "execution_count": 33,
   "metadata": {},
   "outputs": [
    {
     "name": "stdout",
     "output_type": "stream",
     "text": [
      "Area of small circle: 3.14\n",
      "Area of large circle: 78.5\n"
     ]
    }
   ],
   "source": [
    "class Circle:\n",
    "    def __init__(self, radius=1):\n",
    "        self.radius = radius\n",
    "\n",
    "    def area(self):\n",
    "        return 3.14 * self.radius ** 2\n",
    "\n",
    "# Creating instances with and without specifying the radius\n",
    "small_circle = Circle()          # Uses default radius of 1\n",
    "large_circle = Circle(radius=5)  # Specifies a radius of 5\n",
    "\n",
    "print(\"Area of small circle:\", small_circle.area())  \n",
    "print(\"Area of large circle:\", large_circle.area())"
   ]
  },
  {
   "cell_type": "markdown",
   "metadata": {},
   "source": [
    "Relevance to Data Science\n",
    "As you step into the world of data science, methods and parameters become your crafty companions. They allow you to tailor your tools for specific data tasks and make your helpers adaptable and versatile. Let's extend our dataset class to have a method that detects outliers with a customizable threshold."
   ]
  },
  {
   "cell_type": "code",
   "execution_count": 34,
   "metadata": {},
   "outputs": [],
   "source": [
    "class DataSet:\n",
    "    def __init__(self, data):\n",
    "        self.data = data\n",
    "\n",
    "    def detect_outliers(self, threshold=2):\n",
    "        mean_value = sum(self.data) / len(self.data)\n",
    "        std_dev = (sum((x - mean_value) ** 2 for x in self.data) / len(self.data)) ** 0.5\n",
    "        return [x for x in self.data if abs(x - mean_value) > threshold * std_dev]\n",
    "\n",
    "# Usage\n",
    "data_set = DataSet([15, 20, 25, 30, 100])\n",
    "outliers = data_set.detect_outliers(threshold=1.5)"
   ]
  },
  {
   "cell_type": "code",
   "execution_count": 35,
   "metadata": {},
   "outputs": [],
   "source": [
    "another_data_set = DataSet([50, 60, 70, 80, 90])\n",
    "\n",
    "# Using the Same Method with Different Parameters\n",
    "outliers_another = another_data_set.detect_outliers(threshold=2)"
   ]
  },
  {
   "cell_type": "markdown",
   "metadata": {},
   "source": [
    "Classes with Module\n",
    "\n",
    "Modules are simply python code having functions, classes, variables. Any python file with .py extension can be referenced as a module. Although there are some modules available through the python standard library which are installed through python installation, Other modules can be installed using the pip installer, We can also create our own python module.\n",
    "\n",
    "Creating Module\n",
    "Any python code consisting of functions, classes, variables can be termed as a module. We will be writing a simple module that will be having a function, a class, and a variable."
   ]
  },
  {
   "cell_type": "code",
   "execution_count": null,
   "metadata": {},
   "outputs": [],
   "source": [
    "# student.py (Module)\n",
    "class Student:\n",
    "    def __init__(self, name, age):\n",
    "        self.name = name\n",
    "        self.age = age\n",
    "\n",
    "    def display_info(self):\n",
    "        print(f\"Name: {self.name}, Age: {self.age}\")"
   ]
  },
  {
   "cell_type": "markdown",
   "metadata": {},
   "source": [
    "Using the Class in Another Module\n",
    "to import a module and use its various functions, classes, variables from other python files. For this, we will make a file main.py in the same directory as Student.py.py.\n",
    "\n",
    "We will import the module with an import statement and use the functions, classes, variable as following:-"
   ]
  },
  {
   "cell_type": "code",
   "execution_count": null,
   "metadata": {},
   "outputs": [],
   "source": [
    "# main.py (Module)\n",
    "from student import Student\n",
    "\n",
    "# Creating instances of the Student class\n",
    "student1 = Student(name=\"Alice\", age=20)\n",
    "student2 = Student(name=\"Bob\", age=22)\n",
    "\n",
    "# Displaying information using the class method\n",
    "student1.display_info()\n",
    "student2.display_info()"
   ]
  },
  {
   "cell_type": "markdown",
   "metadata": {},
   "source": [
    "Working with Class Methods and Inheritance\n",
    "Classes can contain methods beyond the constructor and provide a way to achieve inheritance. Let's extend our example with an additional class and module."
   ]
  },
  {
   "cell_type": "code",
   "execution_count": 37,
   "metadata": {},
   "outputs": [],
   "source": [
    "# teacher.py (Module)\n",
    "class Teacher:\n",
    "    def __init__(self, name, age, subject):\n",
    "        self.name = name\n",
    "        self.age = age\n",
    "        self.subject = subject\n",
    "\n",
    "    def display_info(self):\n",
    "        print(f\"Name: {self.name}, Age: {self.age}, Subject: {self.subject}\")"
   ]
  },
  {
   "cell_type": "code",
   "execution_count": null,
   "metadata": {},
   "outputs": [],
   "source": [
    "# student.py (Updated Module)\n",
    "from teacher import Teacher  # Importing the Teacher class\n",
    "\n",
    "class Student:\n",
    "    def __init__(self, name, age):\n",
    "        self.name = name\n",
    "        self.age = age\n",
    "\n",
    "    def display_info(self):\n",
    "        print(f\"Name: {self.name}, Age: {self.age}\")\n",
    "\n",
    "class Intern(Student, Teacher):  # Inheriting from both Student and Teacher\n",
    "    def __init__(self, name, age, role):\n",
    "        super().__init__(name, age)\n",
    "        self.role = role\n",
    "\n",
    "    def display_info(self):\n",
    "        print(f\"Name: {self.name}, Age: {self.age}, Role: {self.role}\")"
   ]
  },
  {
   "cell_type": "markdown",
   "metadata": {},
   "source": [
    "The Intern class in the student module inherits from both Student and Teacher, showcasing the power of classes and inheritance.\n",
    "\n",
    "Organizing with Packages:\n",
    "As projects grow, organizing modules into packages becomes crucial. Let's organize our existing modules into a package named school.\n",
    "\n",
    "school/\n",
    "\n",
    "├── __init__.py\n",
    "\n",
    "├── student.py\n",
    "\n",
    "├── teacher.py\n",
    "\n",
    "└── main.py\n",
    "\n",
    "The __init__.py file signifies that the school directory is a Python package. Now, we can update our main.py to import classes from the school package."
   ]
  },
  {
   "cell_type": "code",
   "execution_count": null,
   "metadata": {},
   "outputs": [],
   "source": [
    "# main.py (Updated)\n",
    "from school.student import Student, Intern\n",
    "from school.teacher import Teacher\n",
    "\n",
    "# ... (rest of the code remains the same)"
   ]
  }
 ],
 "metadata": {
  "kernelspec": {
   "display_name": "Python 3",
   "language": "python",
   "name": "python3"
  },
  "language_info": {
   "codemirror_mode": {
    "name": "ipython",
    "version": 3
   },
   "file_extension": ".py",
   "mimetype": "text/x-python",
   "name": "python",
   "nbconvert_exporter": "python",
   "pygments_lexer": "ipython3",
   "version": "3.12.5"
  }
 },
 "nbformat": 4,
 "nbformat_minor": 2
}
