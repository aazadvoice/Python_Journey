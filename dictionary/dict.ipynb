{
 "cells": [
  {
   "cell_type": "markdown",
   "metadata": {},
   "source": [
    "#Dictionary\n",
    "\n",
    "A dictionary in Python is a collection of key values, used to store data values like a map, which, unlike other data types holds Key-value only a single value as an element.\n",
    "\n",
    "Dictionary Syntax\n",
    "dict_var = {key1 : value1, key2 : value2, …..}\n",
    "\n",
    "Properties of dictionary\n",
    "Dictionaries in Python are unordered collections of items. Unlike lists, the order in which items are added to a dictionary is not preserved.\n",
    "Dictionaries are mutable, meaning you can modify their contents by adding, removing, or updating key-value pairs.\n",
    "Keys in a dictionary must be immutable, meaning they cannot be changed after creation. Values in a dictionary, on the other hand, can be of any data type and are mutable.\n",
    "Retrieving a value from a dictionary is highly efficient, typically taking constant time on average.\n"
   ]
  },
  {
   "cell_type": "code",
   "execution_count": 18,
   "metadata": {},
   "outputs": [
    {
     "name": "stdout",
     "output_type": "stream",
     "text": [
      "{}\n",
      "{1: 'Aazad', 2: 'voice', 3: 'youtube'}\n"
     ]
    }
   ],
   "source": [
    "#Creating a dictionary\n",
    "\n",
    "my_dict = {}\n",
    "print (my_dict)\n",
    "\n",
    "my_Dict = ({1:'Aazad', 2:'voice', 3:'youtube'})\n",
    "print (my_Dict)\n",
    "\n",
    "\n"
   ]
  },
  {
   "cell_type": "code",
   "execution_count": 20,
   "metadata": {},
   "outputs": [
    {
     "ename": "TypeError",
     "evalue": "'dict' object is not callable",
     "output_type": "error",
     "traceback": [
      "\u001b[0;31m---------------------------------------------------------------------------\u001b[0m",
      "\u001b[0;31mTypeError\u001b[0m                                 Traceback (most recent call last)",
      "Cell \u001b[0;32mIn[20], line 1\u001b[0m\n\u001b[0;32m----> 1\u001b[0m my_Dict \u001b[38;5;241m=\u001b[39m \u001b[38;5;28;43mdict\u001b[39;49m\u001b[43m(\u001b[49m\u001b[43m[\u001b[49m\u001b[43m(\u001b[49m\u001b[38;5;241;43m1\u001b[39;49m\u001b[43m,\u001b[49m\u001b[43m \u001b[49m\u001b[38;5;124;43m'\u001b[39;49m\u001b[38;5;124;43mData\u001b[39;49m\u001b[38;5;124;43m'\u001b[39;49m\u001b[43m)\u001b[49m\u001b[43m,\u001b[49m\u001b[43m \u001b[49m\u001b[43m(\u001b[49m\u001b[38;5;241;43m2\u001b[39;49m\u001b[43m,\u001b[49m\u001b[43m \u001b[49m\u001b[38;5;124;43m'\u001b[39;49m\u001b[38;5;124;43mScience\u001b[39;49m\u001b[38;5;124;43m'\u001b[39;49m\u001b[43m)\u001b[49m\u001b[43m]\u001b[49m\u001b[43m)\u001b[49m\n\u001b[1;32m      2\u001b[0m \u001b[38;5;28mprint\u001b[39m(\u001b[38;5;124m\"\u001b[39m\u001b[38;5;124mDictionary with each item as a pair: \u001b[39m\u001b[38;5;124m\"\u001b[39m)\n\u001b[1;32m      3\u001b[0m \u001b[38;5;28mprint\u001b[39m(my_Dict)\n",
      "\u001b[0;31mTypeError\u001b[0m: 'dict' object is not callable"
     ]
    }
   ],
   "source": [
    "my_Dict = dict([(1, 'Data'), (2, 'Science')])\n",
    "print(\"Dictionary with each item as a pair: \")\n",
    "print(my_Dict)"
   ]
  },
  {
   "cell_type": "code",
   "execution_count": 25,
   "metadata": {},
   "outputs": [
    {
     "name": "stdout",
     "output_type": "stream",
     "text": [
      "Rose\n",
      "24\n",
      "Rose\n",
      "Unknown\n"
     ]
    }
   ],
   "source": [
    "#Accessing values of a dictionary\n",
    "my_dict = {'name':'Rose', 'age': 24}\n",
    "print(my_dict['name'])  \n",
    "print(my_dict['age'])   \n",
    "print(my_dict.get('name','Unknown'))\n",
    "print(my_dict.get('city','Unknown'))\n",
    "\n"
   ]
  },
  {
   "cell_type": "code",
   "execution_count": 26,
   "metadata": {},
   "outputs": [
    {
     "name": "stdout",
     "output_type": "stream",
     "text": [
      "{'name': 'Rose', 'age': 32, 'city': 'ghaziabad'}\n"
     ]
    }
   ],
   "source": [
    "#Modifying and adding elements\n",
    "my_Dict = {'name':'Rose', 'age': 24,'city':'NOIDA'}\n",
    "my_Dict.update({'age':32,'city':'ghaziabad'})\n",
    "print(my_Dict)\n"
   ]
  },
  {
   "cell_type": "code",
   "execution_count": 27,
   "metadata": {},
   "outputs": [
    {
     "name": "stdout",
     "output_type": "stream",
     "text": [
      "Rose\n",
      "{'age': 24, 'city': 'NOIDA'}\n"
     ]
    }
   ],
   "source": [
    "#Removing elements\n",
    "\n",
    "#To remove a key-value pair from a dictionary, you can use the pop method or use the del keyword.\n",
    "\n",
    "my_Dict = {'name':'Rose', 'age': 24,'city':'NOIDA'}\n",
    "remove = my_Dict.pop('name')\n",
    "print(remove)\n",
    "print(my_Dict)\n",
    "\n",
    "\n",
    "\n",
    "\n",
    "\n",
    "\n"
   ]
  },
  {
   "cell_type": "markdown",
   "metadata": {},
   "source": [
    "Dictionary methods\n",
    "dict.clear() - Remove all the elements from the dictionary\n",
    "\n",
    "dict.copy() - Returns a copy of the dictionary\n",
    "\n",
    "dict.get(key, default = “None”) - Returns the value of specified key\n",
    "\n",
    "dict.items() - Returns a list containing a tuple for each key value pair\n",
    "\n",
    "dict.keys() - Returns a list containing dictionary’s keys\n",
    "\n",
    "dict.update(dict2) - Updates dictionary with specified key-value pairs\n",
    "\n",
    "dict.values() - Returns a list of all the values of dictionary\n",
    "\n",
    "pop() - Remove the element with specified key\n",
    "\n",
    "popItem() - Removes the last inserted key-value pair\n",
    "\n",
    "dict.setdefault(key,default= “None”) - set the key to the default value if the key is not specified in the dictionary\n",
    "\n",
    "dict.has_key(key) - returns true if the dictionary contains the specified key.\n",
    "\n",
    "dict.get(key, default = “None”) - used to get the value specified for the passed key.\n",
    "\n"
   ]
  },
  {
   "cell_type": "code",
   "execution_count": null,
   "metadata": {},
   "outputs": [],
   "source": [
    "#Multidimensional Dictionary\n",
    "\n",
    "#Multidimensional dictionary in Python is a dictionary that contains other dictionaries as values. Each level of nesting represents a different dimension in the data structure."
   ]
  },
  {
   "cell_type": "code",
   "execution_count": 2,
   "metadata": {},
   "outputs": [
    {
     "name": "stdout",
     "output_type": "stream",
     "text": [
      "{'first_level': {'second_level_1': {'third_level_1': 1, 'third_level_2': 2}, 'second_level_2': {'third_level_3': 3, 'third_level_4': 4}}, 'another_first_level': {'second_level_3': {'third_level_5': 5, 'third_level_6': 6}, 'second_level_4': {'third_level_7': 7, 'third_level_8': 8}}}\n"
     ]
    }
   ],
   "source": [
    "multidimensional_dict = {\n",
    "        'first_level': {\n",
    "             'second_level_1': {\n",
    "                     'third_level_1': 1,\n",
    "                     'third_level_2': 2\n",
    "               },\n",
    "        'second_level_2': {\n",
    "                    'third_level_3': 3,\n",
    "                    'third_level_4': 4\n",
    "                   }\n",
    "              },\n",
    " 'another_first_level': {\n",
    "                'second_level_3': {\n",
    "                             'third_level_5': 5,\n",
    "                             'third_level_6': 6\n",
    "                             },\n",
    "              'second_level_4': {\n",
    "                            'third_level_7': 7,\n",
    "                            'third_level_8': 8\n",
    "                    }\n",
    "             }\n",
    "        }\n",
    "\n",
    "print(multidimensional_dict)"
   ]
  },
  {
   "cell_type": "code",
   "execution_count": 3,
   "metadata": {},
   "outputs": [
    {
     "name": "stdout",
     "output_type": "stream",
     "text": [
      "2\n"
     ]
    }
   ],
   "source": [
    "#Accessing Values in a Multidimensional Dictionary:\n",
    "\n",
    "value = multidimensional_dict['first_level']['second_level_1']['third_level_2']\n",
    "print(value) \n"
   ]
  },
  {
   "cell_type": "code",
   "execution_count": 4,
   "metadata": {},
   "outputs": [
    {
     "name": "stdout",
     "output_type": "stream",
     "text": [
      "{'first_level': {'second_level_1': {'third_level_1': 1, 'third_level_2': 2}, 'second_level_2': {'third_level_3': 3, 'third_level_4': 4}}, 'another_first_level': {'second_level_3': {'third_level_5': 5, 'third_level_6': 6}, 'second_level_4': {'third_level_7': 7, 'third_level_8': 8}}, 'new_first_level': {'new_second_level': {'new_third_level': 100}}}\n"
     ]
    }
   ],
   "source": [
    "#Adding new level to existing Dictionary\n",
    "multidimensional_dict['new_first_level'] = {'new_second_level':{'new_third_level':100}}\n",
    "print(multidimensional_dict)"
   ]
  },
  {
   "cell_type": "code",
   "execution_count": 5,
   "metadata": {},
   "outputs": [
    {
     "name": "stdout",
     "output_type": "stream",
     "text": [
      "First Level Key: first_level\n",
      "  Second Level Key: second_level_1\n",
      "    Third Level Key: third_level_1, Value: 1\n",
      "    Third Level Key: third_level_2, Value: 2\n",
      "  Second Level Key: second_level_2\n",
      "    Third Level Key: third_level_3, Value: 3\n",
      "    Third Level Key: third_level_4, Value: 4\n",
      "First Level Key: another_first_level\n",
      "  Second Level Key: second_level_3\n",
      "    Third Level Key: third_level_5, Value: 5\n",
      "    Third Level Key: third_level_6, Value: 6\n",
      "  Second Level Key: second_level_4\n",
      "    Third Level Key: third_level_7, Value: 7\n",
      "    Third Level Key: third_level_8, Value: 8\n",
      "First Level Key: new_first_level\n",
      "  Second Level Key: new_second_level\n",
      "    Third Level Key: new_third_level, Value: 100\n"
     ]
    }
   ],
   "source": [
    "#Iterating over multidimensional Dictionary\n",
    "for first_level_key, second_level_dict in multidimensional_dict.items():\n",
    "    print(f\"First Level Key: {first_level_key}\")\n",
    "    \n",
    "    for second_level_key, third_level_dict in second_level_dict.items():\n",
    "        print(f\"  Second Level Key: {second_level_key}\")\n",
    "        \n",
    "        for third_level_key, value in third_level_dict.items():\n",
    "            print(f\"    Third Level Key: {third_level_key}, Value: {value}\")\n"
   ]
  },
  {
   "cell_type": "markdown",
   "metadata": {},
   "source": [
    "Application of multidimensional Dictionary\n",
    "1. Configuration Settings: Representing configuration settings where each setting category has various parameters.\n",
    "\n",
    "2. Tree Structures: Representing hierarchical structures such as organizational charts.\n",
    "\n",
    "3. Nested Data: Storing data with a hierarchical relationship, where each level provides more specific information."
   ]
  },
  {
   "cell_type": "markdown",
   "metadata": {},
   "source": [
    "Dictionary Comprehension\n",
    "\n",
    "Python dictionary comprehension is a very useful feature if you want to construct dictionaries in one line of code. We can construct a dictionary using a {key : value} mapping directly from an iterable object like, lists.\n",
    "\n"
   ]
  },
  {
   "cell_type": "code",
   "execution_count": 2,
   "metadata": {},
   "outputs": [
    {
     "name": "stdout",
     "output_type": "stream",
     "text": [
      "{3: 9, 6: 36, 9: 81}\n"
     ]
    }
   ],
   "source": [
    "#Condition in dictionary comprehension\n",
    "\n",
    "numbers ={x: x**2 for x in range(1,11) if x%3 ==0}\n",
    "print(numbers)\n"
   ]
  },
  {
   "cell_type": "code",
   "execution_count": 3,
   "metadata": {},
   "outputs": [
    {
     "name": "stdout",
     "output_type": "stream",
     "text": [
      "{'a': 1, 'b': 2, 'c': 3}\n"
     ]
    }
   ],
   "source": [
    "#Creating a dictionary from Lists\n",
    "keys =['a', 'b','c']\n",
    "values = [1,2,3]\n",
    "result = {k:v for k ,v in zip(keys, values)}\n",
    "print(result)"
   ]
  },
  {
   "cell_type": "code",
   "execution_count": 4,
   "metadata": {},
   "outputs": [
    {
     "name": "stdout",
     "output_type": "stream",
     "text": [
      "{5: {2: 10, 3: 15, 4: 20, 5: 25}, 6: {2: 12, 3: 18, 4: 24, 5: 30}}\n"
     ]
    }
   ],
   "source": [
    "#Nested dictionary comprehension\n",
    "\n",
    "dictionary ={\n",
    "    k1:{k2: k1 * k2 for k2 in range (2,6)} for k1 in range (5,7)\n",
    "}\n",
    "print(dictionary)"
   ]
  }
 ],
 "metadata": {
  "kernelspec": {
   "display_name": "Python 3",
   "language": "python",
   "name": "python3"
  },
  "language_info": {
   "codemirror_mode": {
    "name": "ipython",
    "version": 3
   },
   "file_extension": ".py",
   "mimetype": "text/x-python",
   "name": "python",
   "nbconvert_exporter": "python",
   "pygments_lexer": "ipython3",
   "version": "3.12.5"
  }
 },
 "nbformat": 4,
 "nbformat_minor": 2
}
