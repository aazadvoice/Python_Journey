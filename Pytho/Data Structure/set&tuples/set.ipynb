{
 "cells": [
  {
   "cell_type": "markdown",
   "metadata": {},
   "source": [
    "Sets are a fundamental data type in Python that represent an unordered collection of unique elements. They provide a versatile and efficient way to work with data that requires distinct values.\n",
    "\n",
    "Properties of Set\n",
    "Sets do not allow duplicate elements. Each element in a set must be unique.\n",
    "Sets are unordered, meaning the elements do not have a specific order. Unlike lists, sets do not have indices.\n",
    "Sets are mutable, meaning you can add or remove elements after the set is created.\n",
    "Due to their unordered nature, sets do not support indexing. You cannot access elements by index as you would with lists."
   ]
  },
  {
   "cell_type": "code",
   "execution_count": 3,
   "metadata": {},
   "outputs": [
    {
     "name": "stdout",
     "output_type": "stream",
     "text": [
      "{1, 2, 3, 4, 9}\n",
      "{1, 2, 3, 4, 5, 6, 7, 8, 9}\n"
     ]
    }
   ],
   "source": [
    "#Update\n",
    "set={1,2,3,4}\n",
    "set.add(9)\n",
    "print(set)\n",
    "set={1,2,3,4}\n",
    "set.update([4,5,6,7,8,9,])\n",
    "print(set)"
   ]
  },
  {
   "cell_type": "code",
   "execution_count": null,
   "metadata": {},
   "outputs": [],
   "source": [
    "#Removing elements\n"
   ]
  },
  {
   "cell_type": "markdown",
   "metadata": {},
   "source": [
    "Removing Elements:\n",
    "1. remove(element):\n",
    "Removes a specific element from the set. Raises a KeyError if the element is not present.\n",
    "\n",
    "2. discard(element):\n",
    "Removes a specific element from the set if it is present. Does not raise an error if the element is not found.\n",
    "\n",
    "3. pop():\n",
    "Removes and returns an arbitrary element from the set. Raises a KeyError if the set is empty."
   ]
  },
  {
   "cell_type": "code",
   "execution_count": 4,
   "metadata": {},
   "outputs": [
    {
     "name": "stdout",
     "output_type": "stream",
     "text": [
      "{2, 4, 7, 8, 9} Popped element is 1\n"
     ]
    }
   ],
   "source": [
    "Set = {1,2,3, 4,5,7,8,9}\n",
    "Set.remove(5)\n",
    "Set.discard(3)\n",
    "popped_element = Set.pop()\n",
    "print(Set,f\"Popped element is {popped_element}\")\n"
   ]
  },
  {
   "cell_type": "markdown",
   "metadata": {},
   "source": [
    "Set Operations:\n",
    "1. union() or |:\n",
    "Returns a new set containing all unique elements from both sets.\n",
    "\n",
    "2. intersection() or &:\n",
    "Returns a new set containing common elements between two sets.\n",
    "\n",
    "3. difference() or -:\n",
    "Returns a new set with elements in the first set but not in the second set.\n",
    "\n",
    "4. symmetric_difference() or ^:\n",
    "Returns a new set with elements in either set, but not both."
   ]
  },
  {
   "cell_type": "code",
   "execution_count": 5,
   "metadata": {},
   "outputs": [
    {
     "name": "stdout",
     "output_type": "stream",
     "text": [
      "union set : {1, 2, 3, 4, 5, 6, 7, 9}\n",
      "intersection set : {4, 5}\n",
      "difference of sets : {1, 9, 7}\n",
      "symmetric difference : {1, 2, 3, 6, 7, 9}\n"
     ]
    }
   ],
   "source": [
    "set1 = {2, 3, 4, 5, 6}\n",
    "set2 = {4, 5, 7, 9, 1}\n",
    "union_set = set1.union(set2)\n",
    "intersection_set = set1.intersection(set2)\n",
    "difference_set = set2-set1\n",
    "symmeteric_diff = set1 ^ set2\n",
    "print(f\"union set : {union_set}\")\n",
    "print(f\"intersection set : {intersection_set}\")\n",
    "print(f\"difference of sets : {difference_set}\")\n",
    "print(f\"symmetric difference : {symmeteric_diff}\")\n"
   ]
  },
  {
   "cell_type": "markdown",
   "metadata": {},
   "source": [
    "Other Methods:\n",
    "(i) clear(): Removes all elements from the set, making it empty.\n",
    "\n",
    "(ii) copy(): Returns a shallow copy of the set.\n",
    "\n",
    "(iii) len(): Returns the number of elements in the set."
   ]
  },
  {
   "cell_type": "code",
   "execution_count": 6,
   "metadata": {},
   "outputs": [
    {
     "name": "stdout",
     "output_type": "stream",
     "text": [
      "copy of set  {0, 2, 3, 4, 7, 8}  set length  6\n",
      "Original set  set()\n"
     ]
    }
   ],
   "source": [
    "Set = {2, 3, 4, 7, 8, 0}\n",
    "copy_set = Set.copy()\n",
    "set_length = len(Set)\n",
    "print(\"copy of set \", copy_set,\" set length \", set_length)\n",
    "Set.clear()\n",
    "print(\"Original set \", Set)"
   ]
  },
  {
   "cell_type": "code",
   "execution_count": 10,
   "metadata": {},
   "outputs": [
    {
     "name": "stdout",
     "output_type": "stream",
     "text": [
      "4 is in the set\n"
     ]
    }
   ],
   "source": [
    "#(iv) in and not in: Checks for membership in a set.\n",
    "\n",
    "Set = {2, 4, 5, 7, 8}\n",
    "if 4 in Set:\n",
    "    print(\"4 is in the set\")\n"
   ]
  },
  {
   "cell_type": "markdown",
   "metadata": {},
   "source": [
    "Properties of Tuples\n",
    "\n",
    "Tuples are immutable which means once a tuple is created, you cannot modify its elements. You can't add, remove, or change elements in a tuple.\n",
    "Tuples are ordered, meaning the position of an element in a tuple is preserved.\n",
    "Tuples can contain elements of different data types. You can have integers, strings, floats, and other data types within the same tuple."
   ]
  },
  {
   "cell_type": "code",
   "execution_count": 13,
   "metadata": {},
   "outputs": [
    {
     "name": "stdout",
     "output_type": "stream",
     "text": [
      "-3 Python\n"
     ]
    }
   ],
   "source": [
    "#Access elements of tuples\n",
    "my_tuple = (2, 4, \"Python\", 5.0, -3)\n",
    "ele_1 = my_tuple[-1] \n",
    "ele_2 = my_tuple[2] \n",
    "print (ele_1, ele_2)\n"
   ]
  },
  {
   "cell_type": "markdown",
   "metadata": {},
   "source": [
    "Tuples Method\n",
    "Tuples have a few built-in methods. However, due to their immutable nature, the number of methods is limited compared to lists.\n",
    "\n",
    "1. count(element):\n",
    "The count method returns the number of occurrences of a specified element in the tuple.\n",
    "\n",
    "2. index(element) :\n",
    "The index method returns the index of the first occurrence of a specified element in the tuple."
   ]
  },
  {
   "cell_type": "code",
   "execution_count": 14,
   "metadata": {},
   "outputs": [
    {
     "name": "stdout",
     "output_type": "stream",
     "text": [
      "index of python: 4, count of 1 : 2\n"
     ]
    }
   ],
   "source": [
    "my_tuple = (1, 3, \"Geeks\", 4.0, \"python\", 1)\n",
    "index= my_tuple.index('python') \n",
    "count = my_tuple.count(1) \n",
    "print (f\"index of python: { index }, count of 1 : {count}\")\n"
   ]
  },
  {
   "cell_type": "markdown",
   "metadata": {},
   "source": [
    "#3. Tuple Packing and Unpacking:\n",
    "\n",
    "Tuple packing is the process of placing multiple values in a tuple, while tuple unpacking is the process of extracting values from a tuple."
   ]
  },
  {
   "cell_type": "code",
   "execution_count": 15,
   "metadata": {},
   "outputs": [
    {
     "name": "stdout",
     "output_type": "stream",
     "text": [
      " packed Tuple : (1, 2, 'three'), unpacked tuple a: 1, b: 2, c : three\n"
     ]
    }
   ],
   "source": [
    "packed_tuple = 1, 2, 'three'\n",
    "\n",
    "# Tuple unpacking\n",
    "a, b, c = packed_tuple\n",
    "print (f\" packed Tuple : {packed_tuple}, unpacked tuple a: {a}, b: {b}, c : {c}\")\n"
   ]
  },
  {
   "cell_type": "code",
   "execution_count": null,
   "metadata": {},
   "outputs": [],
   "source": [
    "#Problem Statement - Two Sum Problem that returns a tuple of elements equal to given sum.\n"
   ]
  },
  {
   "cell_type": "code",
   "execution_count": null,
   "metadata": {},
   "outputs": [],
   "source": [
    "#Problem Statement 2 : Longest Substring Without Repeating Characters\n",
    "\n",
    "\n",
    "\n",
    "\n"
   ]
  }
 ],
 "metadata": {
  "kernelspec": {
   "display_name": "Python 3",
   "language": "python",
   "name": "python3"
  },
  "language_info": {
   "codemirror_mode": {
    "name": "ipython",
    "version": 3
   },
   "file_extension": ".py",
   "mimetype": "text/x-python",
   "name": "python",
   "nbconvert_exporter": "python",
   "pygments_lexer": "ipython3",
   "version": "3.12.5"
  }
 },
 "nbformat": 4,
 "nbformat_minor": 2
}
