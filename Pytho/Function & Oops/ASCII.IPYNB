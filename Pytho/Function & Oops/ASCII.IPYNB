{
 "cells": [
  {
   "cell_type": "markdown",
   "metadata": {},
   "source": [
    "ASCII, which stands for American Standard Code for Information Interchange, is a standard used to represent characters in computers and other devices. Each character is assigned a unique numeric code within the ASCII range. In Python, you have built-in functions and methods that allow you to interact with these ASCII codes, making it easy to perform operations involving characters and their corresponding numeric representations.\n",
    "\n",
    "Conversions with ASCII Code\n",
    "1. Character to ASCII Code\n",
    "\n",
    "You can use the ord() function to get the ASCII code of a character."
   ]
  },
  {
   "cell_type": "code",
   "execution_count": 1,
   "metadata": {},
   "outputs": [
    {
     "name": "stdout",
     "output_type": "stream",
     "text": [
      "The ASCII code of 'A' is 65\n"
     ]
    }
   ],
   "source": [
    "char = 'A'\n",
    "ascii_code = ord(char)\n",
    "print(f\"The ASCII code of '{char}' is {ascii_code}\")"
   ]
  },
  {
   "cell_type": "markdown",
   "metadata": {},
   "source": [
    "2. ASCII Code to Character\n",
    "\n",
    "Conversely, the chr() function converts an ASCII code to its corresponding character."
   ]
  },
  {
   "cell_type": "code",
   "execution_count": 2,
   "metadata": {},
   "outputs": [
    {
     "name": "stdout",
     "output_type": "stream",
     "text": [
      "The character with ASCII code 97 is 'a'\n"
     ]
    }
   ],
   "source": [
    "ascii_code = 97\n",
    "character = chr(ascii_code)\n",
    "print(f\"The character with ASCII code {ascii_code} is '{character}'\")"
   ]
  },
  {
   "cell_type": "markdown",
   "metadata": {},
   "source": [
    "Working with Strings\n",
    "1. Iterating Through Characters:\n",
    "\n",
    "You can iterate through each character in a string and obtain its ASCII code."
   ]
  },
  {
   "cell_type": "code",
   "execution_count": 3,
   "metadata": {},
   "outputs": [
    {
     "name": "stdout",
     "output_type": "stream",
     "text": [
      "The ASCII code of 'H' is 72\n",
      "The ASCII code of 'e' is 101\n",
      "The ASCII code of 'l' is 108\n",
      "The ASCII code of 'l' is 108\n",
      "The ASCII code of 'o' is 111\n"
     ]
    }
   ],
   "source": [
    "text = \"Hello\"\n",
    "for char in text:\n",
    "    ascii_code = ord(char)\n",
    "    print(f\"The ASCII code of '{char}' is {ascii_code}\")"
   ]
  },
  {
   "cell_type": "markdown",
   "metadata": {},
   "source": [
    "2. Converting String to ASCII Codes:\n",
    "\n",
    "You can convert an entire string into a list of ASCII codes."
   ]
  },
  {
   "cell_type": "code",
   "execution_count": 4,
   "metadata": {},
   "outputs": [
    {
     "name": "stdout",
     "output_type": "stream",
     "text": [
      "ASCII codes of characters in 'Python': [80, 121, 116, 104, 111, 110]\n"
     ]
    }
   ],
   "source": [
    "text = \"Python\"\n",
    "ascii_list = [ord(char) for char in text]\n",
    "print(f\"ASCII codes of characters in '{text}': {ascii_list}\")"
   ]
  },
  {
   "cell_type": "markdown",
   "metadata": {},
   "source": [
    "Challenge Galore\n",
    "Problem Statement - Caesar Cipher Encryption and Decryption. The Caesar cipher is a type of substitution cipher where each letter in the plaintext is shifted a certain number of places down or up the alphabet."
   ]
  },
  {
   "cell_type": "code",
   "execution_count": 6,
   "metadata": {},
   "outputs": [
    {
     "name": "stdout",
     "output_type": "stream",
     "text": [
      "Encrypted Message: Mj~%Ljjp&%\\mfy,x%~tzw%uwtlwjxxD\n",
      "Decrypted Message: Hey Geek! What's your progress?\n"
     ]
    }
   ],
   "source": [
    "def encrypt(message, shift):\n",
    "    return ''.join(chr(ord(char) + shift) for char in message)\n",
    "\n",
    "def decrypt(encrypted_message, shift):\n",
    "    return ''.join(chr(ord(char) - shift) for char in encrypted_message)\n",
    "\n",
    "encrypted = encrypt(\"Hey Geek! What's your progress?\", 5)\n",
    "print(\"Encrypted Message:\", encrypted)\n",
    "\n",
    "decrypted = decrypt(encrypted, 5)\n",
    "print(\"Decrypted Message:\", decrypted)"
   ]
  }
 ],
 "metadata": {
  "kernelspec": {
   "display_name": "Python 3",
   "language": "python",
   "name": "python3"
  },
  "language_info": {
   "codemirror_mode": {
    "name": "ipython",
    "version": 3
   },
   "file_extension": ".py",
   "mimetype": "text/x-python",
   "name": "python",
   "nbconvert_exporter": "python",
   "pygments_lexer": "ipython3",
   "version": "3.12.5"
  }
 },
 "nbformat": 4,
 "nbformat_minor": 2
}
