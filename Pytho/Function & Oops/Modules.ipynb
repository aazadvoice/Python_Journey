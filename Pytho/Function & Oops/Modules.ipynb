{
 "cells": [
  {
   "cell_type": "markdown",
   "metadata": {},
   "source": [
    "A Module is a file in python containing Python definitions and statements. These files help organize code into logical, reusable units. Modules make it easier to manage and scale Python projects by breaking them down into smaller components."
   ]
  },
  {
   "cell_type": "code",
   "execution_count": 1,
   "metadata": {},
   "outputs": [],
   "source": [
    "def find_average(numbers):\n",
    "    if not numbers:\n",
    "        return 0\n",
    "    return sum(numbers) / len(numbers)\n",
    "\n",
    "def filter_even(numbers):\n",
    "    return [num for num in numbers if num % 2 == 0]\n",
    "\n",
    "def reverse_list(input_list):\n",
    "    return input_list[::-1]\n",
    "\n",
    "def concatenate_lists(list1, list2):\n",
    "    return list1 + list2"
   ]
  },
  {
   "cell_type": "markdown",
   "metadata": {},
   "source": [
    "Importing Module\n"
   ]
  },
  {
   "cell_type": "markdown",
   "metadata": {},
   "source": [
    "Once a module is created, it can be imported into other Python scripts or modules. There are several ways to import a module:"
   ]
  },
  {
   "cell_type": "code",
   "execution_count": 2,
   "metadata": {},
   "outputs": [
    {
     "ename": "ModuleNotFoundError",
     "evalue": "No module named 'list_operations'",
     "output_type": "error",
     "traceback": [
      "\u001b[0;31m---------------------------------------------------------------------------\u001b[0m",
      "\u001b[0;31mModuleNotFoundError\u001b[0m                       Traceback (most recent call last)",
      "Cell \u001b[0;32mIn[2], line 1\u001b[0m\n\u001b[0;32m----> 1\u001b[0m \u001b[38;5;28;01mimport\u001b[39;00m \u001b[38;5;21;01mlist_operations\u001b[39;00m\n\u001b[1;32m      2\u001b[0m avg \u001b[38;5;241m=\u001b[39m list_operations\u001b[38;5;241m.\u001b[39mfind_average([\u001b[38;5;241m5\u001b[39m, \u001b[38;5;241m3\u001b[39m, \u001b[38;5;241m4\u001b[39m, \u001b[38;5;241m7\u001b[39m])\n\u001b[1;32m      3\u001b[0m evens \u001b[38;5;241m=\u001b[39m list_operations\u001b[38;5;241m.\u001b[39mfilter_even([\u001b[38;5;241m5\u001b[39m, \u001b[38;5;241m3\u001b[39m, \u001b[38;5;241m4\u001b[39m, \u001b[38;5;241m7\u001b[39m])\n",
      "\u001b[0;31mModuleNotFoundError\u001b[0m: No module named 'list_operations'"
     ]
    }
   ],
   "source": [
    "import list_operations\n",
    "avg = list_operations.find_average([5, 3, 4, 7])\n",
    "evens = list_operations.filter_even([5, 3, 4, 7])\n",
    "print(avg,evens)"
   ]
  },
  {
   "cell_type": "code",
   "execution_count": null,
   "metadata": {},
   "outputs": [],
   "source": [
    "import list_operations\n",
    "avg = list_operations.find_average([5, 3, 4, 7])\n",
    "evens = list_operations.filter_even([5, 3, 4, 7])\n",
    "print(avg,evens)"
   ]
  },
  {
   "cell_type": "markdown",
   "metadata": {},
   "source": [
    "Module Search Path\n",
    "When importing a module, Python searches for it in a specific order defined by the **module search path**. The search path includes the current directory, directories listed in the \n",
    " environment variable, and default system directories. Understanding the module search path is crucial for managing dependencies and avoiding naming conflicts.\n",
    "\n",
    "Special Variables in Modules\n",
    "Modules have access to some special variables:\n",
    "\n",
    "__name__:\n",
    "This variable is set to \"__main__\" when the module is run directly, and it is set to the module's name when imported. It allows code to be executed conditionally."
   ]
  },
  {
   "cell_type": "code",
   "execution_count": 4,
   "metadata": {},
   "outputs": [
    {
     "ename": "SyntaxError",
     "evalue": "incomplete input (1780852525.py, line 12)",
     "output_type": "error",
     "traceback": [
      "\u001b[0;36m  Cell \u001b[0;32mIn[4], line 12\u001b[0;36m\u001b[0m\n\u001b[0;31m    print(reverse_list([2,4,5,7,9])\u001b[0m\n\u001b[0m                                   ^\u001b[0m\n\u001b[0;31mSyntaxError\u001b[0m\u001b[0;31m:\u001b[0m incomplete input\n"
     ]
    }
   ],
   "source": [
    "def find_average(numbers):\n",
    "    if not numbers:\n",
    "        return 0\n",
    "    return sum(numbers) / len(numbers)\n",
    "def reverse_list(numbers):\n",
    "    return numbers[::-1]\n",
    "def filter_even(numbers):\n",
    "    return [num for num in numbers if num % 2 == 0]\n",
    "  \n",
    "if __name__ == \"__main__\":\n",
    "    # Code here will only run when the module is executed directly\n",
    "    print(reverse_list([2,4,5,7,9])"
   ]
  }
 ],
 "metadata": {
  "kernelspec": {
   "display_name": "Python 3",
   "language": "python",
   "name": "python3"
  },
  "language_info": {
   "codemirror_mode": {
    "name": "ipython",
    "version": 3
   },
   "file_extension": ".py",
   "mimetype": "text/x-python",
   "name": "python",
   "nbconvert_exporter": "python",
   "pygments_lexer": "ipython3",
   "version": "3.12.5"
  }
 },
 "nbformat": 4,
 "nbformat_minor": 2
}
